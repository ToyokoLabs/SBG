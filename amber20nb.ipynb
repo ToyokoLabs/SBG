{
 "cells": [
  {
   "cell_type": "markdown",
   "metadata": {},
   "source": [
    "# Sampling and Characterization Peptides Protocol"
   ]
  },
  {
   "cell_type": "markdown",
   "metadata": {},
   "source": [
    "First create the peptide structure and then run it in *sander* or *pmemd.cuda*. This can be done easily with the tleap program placing this information in a file *tleap.in*:"
   ]
  },
  {
   "cell_type": "code",
   "execution_count": 42,
   "metadata": {},
   "outputs": [
    {
     "data": {
      "text/plain": [
       "192"
      ]
     },
     "execution_count": 42,
     "metadata": {},
     "output_type": "execute_result"
    }
   ],
   "source": [
    "tleap_in = \"\"\"source leaprc.ff14SB\n",
    "peptide = sequence { NASP ARG VAL TYR ILE HIS CPRO }\n",
    "addions peptide Na+ 0\n",
    "addions peptide Cl- 0\n",
    "solvateBox peptide TIP3PBOX 13\n",
    "saveAmberParm peptide p.1.top p.1.crd\n",
    "quit\n",
    "\"\"\"\n",
    "\n",
    "open('tleap.in', 'w').write(tleap_in)"
   ]
  },
  {
   "cell_type": "code",
   "execution_count": 33,
   "metadata": {},
   "outputs": [
    {
     "name": "stdout",
     "output_type": "stream",
     "text": [
      "Copying gs://sbglabdata/src/gpu/leaprc.ff14SB...\n",
      "/ [1 files][  5.2 KiB/  5.2 KiB]                                                \n",
      "Operation completed over 1 objects/5.2 KiB.                                      \n",
      "Copying gs://sbglabdata/src/gpu/min.1.in...\n",
      "/ [1 files][   74.0 B/   74.0 B]                                                \n",
      "Operation completed over 1 objects/74.0 B.                                       \n",
      "Copying gs://sbglabdata/src/gpu/heat.1.inp...\n",
      "Copying gs://sbglabdata/src/gpu/heat.2.inp...                                   \n",
      "Copying gs://sbglabdata/src/gpu/heat.3.inp...                                   \n",
      "/ [3 files][  831.0 B/  831.0 B]                                                \n",
      "Operation completed over 3 objects/831.0 B.                                      \n",
      "Copying gs://sbglabdata/src/gpu/dmd.1.inp...\n",
      "/ [1 files][  199.0 B/  199.0 B]                                                \n",
      "Operation completed over 1 objects/199.0 B.                                      \n",
      "Copying gs://sbglabdata/src/gpu/eq.1.inp...\n",
      "/ [1 files][  209.0 B/  209.0 B]                                                \n",
      "Operation completed over 1 objects/209.0 B.                                      \n"
     ]
    }
   ],
   "source": [
    "!gsutil cp gs://sbglabdata/src/gpu/leaprc.ff14SB .\n",
    "!gsutil cp gs://sbglabdata/src/gpu/min.1.in .\n",
    "!gsutil cp gs://sbglabdata/src/gpu/heat.*.inp .\n",
    "!gsutil cp gs://sbglabdata/src/gpu/dmd.1.inp .\n",
    "!gsutil cp gs://sbglabdata/src/gpu/eq.1.inp .    "
   ]
  },
  {
   "cell_type": "code",
   "execution_count": 31,
   "metadata": {
    "collapsed": true
   },
   "outputs": [
    {
     "name": "stdout",
     "output_type": "stream",
     "text": [
      "logFile leap.log\r\n",
      "#\r\n",
      "# ----- leaprc for loading the ff14SB force field\r\n",
      "# ----- NOTE: this is designed for PDB format 3!\r\n",
      "#    Uses frcmod.ff14SB for proteins; ff99bsc0 for DNA; ff99bsc0_chiOL3 for RNA\r\n",
      "#\r\n",
      "#\tload atom type hybridizations\r\n",
      "#\r\n",
      "addAtomTypes {\r\n",
      "\t{ \"H\"   \"H\" \"sp3\" }\r\n",
      "\t{ \"HO\"  \"H\" \"sp3\" }\r\n",
      "\t{ \"HS\"  \"H\" \"sp3\" }\r\n",
      "\t{ \"H1\"  \"H\" \"sp3\" }\r\n",
      "\t{ \"H2\"  \"H\" \"sp3\" }\r\n",
      "\t{ \"H3\"  \"H\" \"sp3\" }\r\n",
      "\t{ \"H4\"  \"H\" \"sp3\" }\r\n",
      "\t{ \"H5\"  \"H\" \"sp3\" }\r\n",
      "\t{ \"HW\"  \"H\" \"sp3\" }\r\n",
      "\t{ \"HC\"  \"H\" \"sp3\" }\r\n",
      "\t{ \"HA\"  \"H\" \"sp3\" }\r\n",
      "\t{ \"HP\"  \"H\" \"sp3\" }\r\n",
      "\t{ \"HZ\"  \"H\" \"sp3\" }\r\n",
      "\t{ \"OH\"  \"O\" \"sp3\" }\r\n",
      "\t{ \"OS\"  \"O\" \"sp3\" }\r\n",
      "\t{ \"O\"   \"O\" \"sp2\" }\r\n",
      "\t{ \"O2\"  \"O\" \"sp2\" }\r\n",
      "\t{ \"OP\"  \"O\" \"sp2\" }\r\n",
      "\t{ \"OW\"  \"O\" \"sp3\" }\r\n",
      "\t{ \"CT\"  \"C\" \"sp3\" }\r\n",
      "\t{ \"CX\"  \"C\" \"sp3\" }\r\n",
      "\t{ \"C8\"  \"C\" \"sp3\" }\r\n",
      "\t{ \"2C\"  \"C\" \"sp3\" }\r\n",
      "\t{ \"3C\"  \"C\" \"sp3\" }\r\n",
      "\t{ \"CH\"  \"C\" \"sp3\" }\r\n",
      "\t{ \"CS\"  \"C\" \"sp2\" }\r\n",
      "\t{ \"C\"   \"C\" \"sp2\" }\r\n",
      "\t{ \"CO\"   \"C\" \"sp2\" }\r\n",
      "\t{ \"C*\"  \"C\" \"sp2\" }\r\n",
      "\t{ \"CA\"  \"C\" \"sp2\" }\r\n",
      "\t{ \"CB\"  \"C\" \"sp2\" }\r\n",
      "\t{ \"CC\"  \"C\" \"sp2\" }\r\n",
      "\t{ \"CN\"  \"C\" \"sp2\" }\r\n",
      "\t{ \"CM\"  \"C\" \"sp2\" }\r\n",
      "\t{ \"CK\"  \"C\" \"sp2\" }\r\n",
      "\t{ \"CQ\"  \"C\" \"sp2\" }\r\n",
      "\t{ \"CD\"  \"C\" \"sp2\" }\r\n",
      "\t{ \"C5\"  \"C\" \"sp2\" }\r\n",
      "\t{ \"C4\"  \"C\" \"sp2\" }\r\n",
      "\t{ \"CP\"  \"C\" \"sp2\" }\r\n",
      "\t{ \"CI\"  \"C\" \"sp3\" }\r\n",
      "\t{ \"CJ\"  \"C\" \"sp2\" }\r\n",
      "\t{ \"CW\"  \"C\" \"sp2\" }\r\n",
      "\t{ \"CV\"  \"C\" \"sp2\" }\r\n",
      "\t{ \"CR\"  \"C\" \"sp2\" }\r\n",
      "\t{ \"CA\"  \"C\" \"sp2\" }\r\n",
      "\t{ \"CY\"  \"C\" \"sp2\" }\r\n",
      "\t{ \"C0\"  \"Ca\" \"sp3\" }\r\n",
      "\t{ \"MG\"  \"Mg\" \"sp3\" }\r\n",
      "\t{ \"N\"   \"N\" \"sp2\" }\r\n",
      "\t{ \"NA\"  \"N\" \"sp2\" }\r\n",
      "\t{ \"N2\"  \"N\" \"sp2\" }\r\n",
      "\t{ \"N*\"  \"N\" \"sp2\" }\r\n",
      "\t{ \"NP\"  \"N\" \"sp2\" }\r\n",
      "\t{ \"NQ\"  \"N\" \"sp2\" }\r\n",
      "\t{ \"NB\"  \"N\" \"sp2\" }\r\n",
      "\t{ \"NC\"  \"N\" \"sp2\" }\r\n",
      "\t{ \"NT\"  \"N\" \"sp3\" }\r\n",
      "\t{ \"NY\"  \"N\" \"sp2\" }\r\n",
      "\t{ \"N3\"  \"N\" \"sp3\" }\r\n",
      "\t{ \"S\"   \"S\" \"sp3\" }\r\n",
      "\t{ \"SH\"  \"S\" \"sp3\" }\r\n",
      "\t{ \"P\"   \"P\" \"sp3\" }\r\n",
      "\t{ \"LP\"  \"\"  \"sp3\" }\r\n",
      "\t{ \"EP\"  \"\"  \"sp3\" }\r\n",
      "\t{ \"F\"   \"F\" \"sp3\" }\r\n",
      "\t{ \"Cl\"  \"Cl\" \"sp3\" }\r\n",
      "\t{ \"Br\"  \"Br\" \"sp3\" }\r\n",
      "\t{ \"I\"   \"I\"  \"sp3\" }\r\n",
      "\t{ \"F-\"   \"F\" \"sp3\" }\r\n",
      "\t{ \"Cl-\"  \"Cl\" \"sp3\" }\r\n",
      "\t{ \"Br-\"  \"Br\" \"sp3\" }\r\n",
      "\t{ \"I-\"   \"I\"  \"sp3\" }\r\n",
      "\t{ \"Li+\"  \"Li\"  \"sp3\" }\r\n",
      "\t{ \"Na+\"  \"Na\"  \"sp3\" }\r\n",
      "\t{ \"K+\"  \"K\"  \"sp3\" }\r\n",
      "\t{ \"Rb+\"  \"Rb\"  \"sp3\" }\r\n",
      "\t{ \"Cs+\"  \"Cs\"  \"sp3\" }\r\n",
      "\t{ \"Mg+\"  \"Mg\"  \"sp3\" }\r\n",
      "# glycam\r\n",
      "\t{ \"OG\"  \"O\" \"sp3\" }\r\n",
      "\t{ \"OL\"  \"O\" \"sp3\" }\r\n",
      "\t{ \"AC\"  \"C\" \"sp3\" }\r\n",
      "\t{ \"EC\"  \"C\" \"sp3\" }\r\n",
      "}\r\n",
      "#\r\n",
      "#\tLoad the main parameter set.\r\n",
      "#\r\n",
      "parm10 = loadamberparams parm10.dat\r\n",
      "frcmod14SB = loadamberparams frcmod.ff14SB\r\n",
      "#\r\n",
      "#\tLoad main chain and terminating amino acid libraries, nucleic acids\r\n",
      "#\r\n",
      "loadOff amino12.lib\r\n",
      "loadOff aminoct12.lib\r\n",
      "loadOff aminont12.lib\r\n",
      "loadOff nucleic12.lib\r\n",
      "#\r\n",
      "#       Load water and ions\r\n",
      "# \r\n",
      "loadOff atomic_ions.lib\r\n",
      "loadOff solvents.lib\r\n",
      "HOH = TP3\r\n",
      "WAT = TP3\r\n",
      "\r\n",
      "#\r\n",
      "#\tDefine the PDB name map for the amino acids and nucleic acids\r\n",
      "#\r\n",
      "addPdbResMap {\r\n",
      "  { 0 \"HYP\" \"NHYP\" } { 1 \"HYP\" \"CHYP\" }\r\n",
      "  { 0 \"ALA\" \"NALA\" } { 1 \"ALA\" \"CALA\" }\r\n",
      "  { 0 \"ARG\" \"NARG\" } { 1 \"ARG\" \"CARG\" }\r\n",
      "  { 0 \"ASN\" \"NASN\" } { 1 \"ASN\" \"CASN\" }\r\n",
      "  { 0 \"ASP\" \"NASP\" } { 1 \"ASP\" \"CASP\" }\r\n",
      "  { 0 \"CYS\" \"NCYS\" } { 1 \"CYS\" \"CCYS\" }\r\n",
      "  { 0 \"CYX\" \"NCYX\" } { 1 \"CYX\" \"CCYX\" }\r\n",
      "  { 0 \"GLN\" \"NGLN\" } { 1 \"GLN\" \"CGLN\" }\r\n",
      "  { 0 \"GLU\" \"NGLU\" } { 1 \"GLU\" \"CGLU\" }\r\n",
      "  { 0 \"GLY\" \"NGLY\" } { 1 \"GLY\" \"CGLY\" }\r\n",
      "  { 0 \"HID\" \"NHID\" } { 1 \"HID\" \"CHID\" }\r\n",
      "  { 0 \"HIE\" \"NHIE\" } { 1 \"HIE\" \"CHIE\" }\r\n",
      "  { 0 \"HIP\" \"NHIP\" } { 1 \"HIP\" \"CHIP\" }\r\n",
      "  { 0 \"ILE\" \"NILE\" } { 1 \"ILE\" \"CILE\" }\r\n",
      "  { 0 \"LEU\" \"NLEU\" } { 1 \"LEU\" \"CLEU\" }\r\n",
      "  { 0 \"LYS\" \"NLYS\" } { 1 \"LYS\" \"CLYS\" }\r\n",
      "  { 0 \"MET\" \"NMET\" } { 1 \"MET\" \"CMET\" }\r\n",
      "  { 0 \"PHE\" \"NPHE\" } { 1 \"PHE\" \"CPHE\" }\r\n",
      "  { 0 \"PRO\" \"NPRO\" } { 1 \"PRO\" \"CPRO\" }\r\n",
      "  { 0 \"SER\" \"NSER\" } { 1 \"SER\" \"CSER\" }\r\n",
      "  { 0 \"THR\" \"NTHR\" } { 1 \"THR\" \"CTHR\" }\r\n",
      "  { 0 \"TRP\" \"NTRP\" } { 1 \"TRP\" \"CTRP\" }\r\n",
      "  { 0 \"TYR\" \"NTYR\" } { 1 \"TYR\" \"CTYR\" }\r\n",
      "  { 0 \"VAL\" \"NVAL\" } { 1 \"VAL\" \"CVAL\" }\r\n",
      "  { 0 \"HIS\" \"NHIS\" } { 1 \"HIS\" \"CHIS\" }\r\n",
      "  { 0 \"G\" \"G5\"  } { 1 \"G\" \"G3\"  } \r\n",
      "  { 0 \"A\" \"A5\"  } { 1 \"A\" \"A3\"  } \r\n",
      "  { 0 \"C\" \"C5\"  } { 1 \"C\" \"C3\"  } \r\n",
      "  { 0 \"U\" \"U5\"  } { 1 \"U\" \"U3\"  } \r\n",
      "  { 0 \"DG\" \"DG5\"  } { 1 \"DG\" \"DG3\"  }  \r\n",
      "  { 0 \"DA\" \"DA5\"  } { 1 \"DA\" \"DA3\"  }  \r\n",
      "  { 0 \"DC\" \"DC5\"  } { 1 \"DC\" \"DC3\"  }  \r\n",
      "  { 0 \"DT\" \"DT5\"  } { 1 \"DT\" \"DT3\"  }  \r\n",
      "#  some old Amber residue names for RNA:\r\n",
      "  { 0  \"RA5\" \"A5\" } { 1 \"RA3\" \"A3\"} {\"RA\" \"A\" }\r\n",
      "  { 0  \"RC5\" \"C5\" } { 1 \"RC3\" \"C3\"} {\"RC\" \"C\" }\r\n",
      "  { 0  \"RG5\" \"G5\" } { 1 \"RG3\" \"G3\"} {\"RG\" \"G\" }\r\n",
      "  { 0  \"RU5\" \"U5\" } { 1 \"RU3\" \"U3\"} {\"RU\" \"U\" }\r\n",
      "#  some really old Amber residue names, assuming DNA:\r\n",
      "  { 0 \"GUA\" \"DG5\"  } { 1 \"GUA\" \"DG3\"  } { \"GUA\" \"DG\" }\r\n",
      "  { 0 \"ADE\" \"DA5\"  } { 1 \"ADE\" \"DA3\"  } { \"ADE\" \"DA\" }\r\n",
      "  { 0 \"CYT\" \"DC5\"  } { 1 \"CYT\" \"DC3\"  } { \"CYT\" \"DC\" }\r\n",
      "  { 0 \"THY\" \"DT5\"  } { 1 \"THY\" \"DT3\"  } { \"THY\" \"DT\" }\r\n",
      "#  uncomment out the following if you have this old style RNA files:\r\n",
      "# { 0 \"GUA\" \"G5\"  } { 1 \"GUA\" \"G3\"  } { \"GUA\" \"G\" }\r\n",
      "# { 0 \"ADE\" \"A5\"  } { 1 \"ADE\" \"A3\"  } { \"ADE\" \"A\" }\r\n",
      "# { 0 \"CYT\" \"C5\"  } { 1 \"CYT\" \"C3\"  } { \"CYT\" \"C\" }\r\n",
      "# { 0 \"URA\" \"R5\"  } { 1 \"URA\" \"R3\"  } { \"URA\" \"R\" }\r\n",
      "\r\n",
      "}\r\n",
      "\r\n",
      "#  try to be good about reading in really old atom names as well:\r\n",
      "addPdbAtomMap {\r\n",
      "  { \"O5*\" \"O5'\" }\r\n",
      "  { \"C5*\" \"C5'\" }\r\n",
      "  { \"C4*\" \"C4'\" }\r\n",
      "  { \"O4*\" \"O4'\" }\r\n",
      "  { \"C3*\" \"C3'\" }\r\n",
      "  { \"O3*\" \"O3'\" }\r\n",
      "  { \"C2*\" \"C2'\" }\r\n",
      "  { \"O2*\" \"O2'\" }\r\n",
      "  { \"C1*\" \"C1'\" }\r\n",
      "  { \"C5M\" \"C7\"  }\r\n",
      "  { \"H1*\" \"H1'\" }\r\n",
      "  { \"H2*1\" \"H2'\" }\r\n",
      "  { \"H2*2\" \"H2''\" }\r\n",
      "  { \"H2'1\" \"H2'\" }\r\n",
      "  { \"H2'2\" \"H2''\" }\r\n",
      "  { \"H3*\" \"H3'\" }\r\n",
      "  { \"H4*\" \"H4'\" }\r\n",
      "  { \"H5*1\" \"H5'\" }\r\n",
      "  { \"H5*2\" \"H5''\" }\r\n",
      "  { \"H5'1\" \"H5'\" }\r\n",
      "  { \"H5'2\" \"H5''\" }\r\n",
      "  { \"HO'2\" \"HO2'\" }\r\n",
      "  { \"H5T\"  \"HO5'\" }\r\n",
      "  { \"H3T\"  \"HO3'\" }\r\n",
      "  { \"O1'\" \"O4'\" }\r\n",
      "  { \"OA\"  \"OP1\" }\r\n",
      "  { \"OB\"  \"OP2\" }\r\n",
      "  { \"O1P\" \"OP1\" }\r\n",
      "  { \"O2P\" \"OP2\" }\r\n",
      "}\r\n",
      "\r\n",
      "#\r\n",
      "# assume that most often proteins use HIE\r\n",
      "#\r\n",
      "NHIS = NHIE\r\n",
      "HIS = HIE\r\n",
      "CHIS = CHIE\r\n",
      "\r\n"
     ]
    }
   ],
   "source": [
    "!cat leaprc.ff14SB"
   ]
  },
  {
   "cell_type": "markdown",
   "metadata": {},
   "source": [
    "## Step 1\n",
    "\n",
    "La secuencia de residuo tiene los nombres con 3 letras identificatorios de cada amino ́acidos, excepto el 1ro y el  ́ultimo a los cuales se le agrega la N y la C, respectivamente. \n",
    "\n",
    "En este caso el tleap se usa para generar el modelo. Esto generara dos archivos. Uno\n",
    "de topolog ́ıa (p.1.top) y otro de coordenadas (p.1.crd). De aqu ́ı en adelante siempre\n",
    "tendremos dos archivos para correr las dinámicas. Uno es el de topolog ́ıa y siempre\n",
    "ser ́a el mismo, mientras que el otro es el que tiene las coordenadas del sistema y va\n",
    "a ser variable en cada paso.\n",
    "\n",
    "Es necesario correr el programa mediante la lınea:"
   ]
  },
  {
   "cell_type": "code",
   "execution_count": 43,
   "metadata": {
    "scrolled": true
   },
   "outputs": [
    {
     "name": "stdout",
     "output_type": "stream",
     "text": [
      "-I: Adding /home/sebastian/amber20/dat/leap/prep to search path.\n",
      "-I: Adding /home/sebastian/amber20/dat/leap/lib to search path.\n",
      "-I: Adding /home/sebastian/amber20/dat/leap/parm to search path.\n",
      "-I: Adding /home/sebastian/amber20/dat/leap/cmd to search path.\n",
      "-s: Ignoring startup file: leaprc\n",
      "-f: Source tleap.in.\n",
      "\n",
      "Welcome to LEaP!\n",
      "Sourcing: ./tleap.in\n",
      "----- Source: ./leaprc.ff14SB\n",
      "----- Source of ./leaprc.ff14SB done\n",
      "Log file: ./leap.log\n",
      "Loading parameters: /home/sebastian/amber20/dat/leap/parm/parm10.dat\n",
      "Reading title:\n",
      "PARM99 + frcmod.ff99SB + frcmod.parmbsc0 + OL3 for RNA\n",
      "Loading parameters: /home/sebastian/amber20/dat/leap/parm/frcmod.ff14SB\n",
      "Reading force field modification type file (frcmod)\n",
      "Reading title:\n",
      "ff14SB protein backbone and sidechain parameters\n",
      "Loading library: /home/sebastian/amber20/dat/leap/lib/amino12.lib\n",
      "Loading library: /home/sebastian/amber20/dat/leap/lib/aminoct12.lib\n",
      "Loading library: /home/sebastian/amber20/dat/leap/lib/aminont12.lib\n",
      "Loading library: /home/sebastian/amber20/dat/leap/lib/nucleic12.lib\n",
      "Loading library: /home/sebastian/amber20/dat/leap/lib/atomic_ions.lib\n",
      "Loading library: /home/sebastian/amber20/dat/leap/lib/solvents.lib\n",
      " 0.000000 0 1 0\n",
      "0 Na+ ion required to neutralize.\n",
      "Using default radius  1.50 for ion Na+\n",
      "Adding 0 counter ions to \"peptide\" using 1A grid\n",
      "\n",
      "/home/sebastian/amber20/bin/teLeap: Warning!\n",
      "addIons: 1st Ion & target unit have charges of the same sign:\n",
      "     unit charge = -3.33067e-16; ion1 charge = -1;\n",
      "     can't neutralize.\n",
      "  Solute vdw bounding box:              25.381 18.464 11.126\n",
      "  Total bounding box for atom centers:  51.381 44.464 37.126\n",
      "  Solvent unit box:                     18.774 18.774 18.774\n",
      "  Total vdw box size:                   54.779 47.657 40.136 angstroms.\n",
      "  Volume: 104778.599 A^3 \n",
      "  Total mass 46263.314 amu,  Density 0.733 g/cc\n",
      "  Added 2518 residues.\n",
      "Checking Unit.\n",
      "Building topology.\n",
      "Building atom parameters.\n",
      "Building bond parameters.\n",
      "Building angle parameters.\n",
      "Building proper torsion parameters.\n",
      "Building improper torsion parameters.\n",
      " total 28 improper torsions applied\n",
      "Building H-Bond parameters.\n",
      "Incorporating Non-Bonded adjustments.\n",
      "Not Marking per-residue atom chain types.\n",
      "Marking per-residue atom chain types.\n",
      "  (Residues lacking connect0/connect1 - \n",
      "   these don't have chain types marked:\n",
      "\n",
      "\tres\ttotal affected\n",
      "\n",
      "\tCPRO\t1\n",
      "\tNASP\t1\n",
      "\tWAT\t2518\n",
      "  )\n",
      " (no restraints)\n",
      "\tQuit\n",
      "\n",
      "Exiting LEaP: Errors = 0; Warnings = 1; Notes = 0.\n"
     ]
    }
   ],
   "source": [
    "!~/amber20/bin/tleap -s -f tleap.in"
   ]
  },
  {
   "cell_type": "markdown",
   "metadata": {},
   "source": [
    "## Step 2\n",
    "\n",
    "**Minimizar**: De aca en adelante solo se utilizar ́a el comando *sander o pmemd.cuda* del Amber. Para\n",
    "minimizar debemos tener 3 archivos de *inputs*: Uno de topolog ́ıa (p.1.top) ,otro de\n",
    "coordenadas (p.1.crd) y el que le indicamos al programa las variables a realizar. Este\n",
    "es el (min.1.in) y se escribe a continuación"
   ]
  },
  {
   "cell_type": "code",
   "execution_count": 34,
   "metadata": {},
   "outputs": [
    {
     "name": "stdout",
     "output_type": "stream",
     "text": [
      "Minimizacion\r\n",
      "&cntrl\r\n",
      "imin=1,\r\n",
      "maxcyc=8000,\r\n",
      "ncyc=7500,\r\n",
      "cut=9,\r\n",
      "ntpr=200,\r\n",
      "&end\r\n"
     ]
    }
   ],
   "source": [
    "!cat min.1.in"
   ]
  },
  {
   "cell_type": "markdown",
   "metadata": {},
   "source": [
    "Se puede minimizar ejecutando el comando así:"
   ]
  },
  {
   "cell_type": "code",
   "execution_count": 44,
   "metadata": {},
   "outputs": [
    {
     "name": "stdout",
     "output_type": "stream",
     "text": [
      "Note: The following floating-point exceptions are signalling: IEEE_UNDERFLOW_FLAG IEEE_DENORMAL\n",
      "\n",
      "real\t0m6.807s\n",
      "user\t0m6.392s\n",
      "sys\t0m0.384s\n"
     ]
    }
   ],
   "source": [
    "!time ~/amber20/bin/pmemd.cuda -O -i min.1.in -o min.1.out -p p.1.top -c p.1.crd -r min.1.crd"
   ]
  },
  {
   "cell_type": "markdown",
   "metadata": {},
   "source": [
    "El archivo .in es el *input*, el .out, el *output*. El .top el de topología generado con *tleap*, el p.1.crd es el archivo de coordenadas generado por el *tleap*. El min.1.crd es el archivo de coordenadas de salida que se utilizará, junto con el p.1.top en el próximo paso."
   ]
  },
  {
   "cell_type": "markdown",
   "metadata": {},
   "source": [
    "## Step 3\n",
    "\n",
    "**Calentar**: Utilizar este *inputs* (lo llamaremos heat.1.inp) para que el sistema pase de 0 K a 100 K"
   ]
  },
  {
   "cell_type": "code",
   "execution_count": 39,
   "metadata": {
    "collapsed": true
   },
   "outputs": [
    {
     "name": "stdout",
     "output_type": "stream",
     "text": [
      "\r\n",
      "35 heating\r\n",
      "&cntrl\r\n",
      "imin=0,irest=0,ntx=1,ntb=1,cut=9.0,ntp=0,nmropt=1,\r\n",
      "ntt=3,nstlim=10000,ntpr=500,ntwx=10000,dt=0.002,ioutfm=1,\r\n",
      "ntwr=10000,gamma_ln=1.0,tol=0.0000001,ntf=2,ntc=2,\r\n",
      "&end\r\n",
      "&wt\r\n",
      "type=\"TEMP0\", istep1=0, istep2=10000, value1=0.0, value2=100.0,\r\n",
      "&end\r\n",
      "&wt\r\n",
      "type=\"END\",\r\n",
      "&end\r\n"
     ]
    }
   ],
   "source": [
    "!cat heat.1.inp"
   ]
  },
  {
   "cell_type": "markdown",
   "metadata": {},
   "source": [
    "Luego hay que correrlo ejecutando el siguiente comando:"
   ]
  },
  {
   "cell_type": "code",
   "execution_count": 45,
   "metadata": {},
   "outputs": [
    {
     "name": "stdout",
     "output_type": "stream",
     "text": [
      "Note: The following floating-point exceptions are signalling: IEEE_UNDERFLOW_FLAG IEEE_DENORMAL\n",
      "\n",
      "real\t0m5.148s\n",
      "user\t0m4.705s\n",
      "sys\t0m0.400s\n"
     ]
    }
   ],
   "source": [
    "!time ~/amber20/bin/pmemd.cuda -O -i heat.1.inp -o heat.1.out -p p.1.top -c min.1.crd -r heat.1.crd -x heat.1.traj"
   ]
  },
  {
   "cell_type": "markdown",
   "metadata": {},
   "source": [
    "Esta corrida dará como resultado el archivo heat.1.crd que tiene las posiciones y las\n",
    "velocidades correspondientes a un sistema a 100 K.\n",
    "Utilizar este *input* (lo llamaremos heat.2.inp) para que el sistema pase de 100 K a\n",
    "200 K"
   ]
  },
  {
   "cell_type": "code",
   "execution_count": 41,
   "metadata": {},
   "outputs": [
    {
     "name": "stdout",
     "output_type": "stream",
     "text": [
      "35 heating\r\n",
      "&cntrl\r\n",
      "imin=0,irest=1,ntx=5,ntb=2,cut=9.0,ntp=2,nmropt=1,\r\n",
      "ntt=3,nstlim=5000,ntpr=500,ntwx=5000,dt=0.002,ioutfm=1,\r\n",
      "ntwr=5000,gamma_ln=1.0,tol=0.0000001,ntf=2,ntc=2,\r\n",
      "&end\r\n",
      "&wt\r\n",
      "type=\"TEMP0\", istep1=0, istep2=5000, value1=100.0, value2=200.0,\r\n",
      "&end\r\n",
      "&wt\r\n",
      "type=\"END\",\r\n",
      "&end\r\n"
     ]
    }
   ],
   "source": [
    "!cat heat.2.inp"
   ]
  },
  {
   "cell_type": "markdown",
   "metadata": {},
   "source": [
    "Luego hay que correrlo ejecutando el siguiente comando:"
   ]
  },
  {
   "cell_type": "code",
   "execution_count": 46,
   "metadata": {},
   "outputs": [
    {
     "name": "stdout",
     "output_type": "stream",
     "text": [
      "Note: The following floating-point exceptions are signalling: IEEE_UNDERFLOW_FLAG IEEE_DENORMAL\n",
      "\n",
      "real\t0m4.319s\n",
      "user\t0m3.969s\n",
      "sys\t0m0.324s\n"
     ]
    }
   ],
   "source": [
    "!time ~/amber20/bin/pmemd.cuda -O -i heat.2.inp -o heat.2.out -p p.1.top -c heat.1.crd -r heat.2.crd -x heat.2.traj"
   ]
  },
  {
   "cell_type": "markdown",
   "metadata": {},
   "source": [
    "Esta corrida dará como resultado el archivo heat.2.crd que tiene las posiciones y las velocidades correspondientes a un sistema a 200 K.\n",
    "Utilizar este *input* (lo llamaremos heat.3.inp) para que el sistema pase de 200 K a 300 K"
   ]
  },
  {
   "cell_type": "code",
   "execution_count": 10,
   "metadata": {},
   "outputs": [
    {
     "name": "stdout",
     "output_type": "stream",
     "text": [
      "35 heating\r\n",
      "&cntrl\r\n",
      "imin=0,irest=1,ntx=5,ntb=2,cut=9.0,ntp=2,nmropt=1,\r\n",
      "ntt=3,nstlim=10000,ntpr=500,ntwx=10000,dt=0.002,ioutfm=1,\r\n",
      "ntwr=10000,gamma_ln=1.0,tol=0.0000001,ntf=2,ntc=2,\r\n",
      "&end\r\n",
      "&wt\r\n",
      "type=\"TEMP0\", istep1=0, istep2=10000, value1=200.0, value2=300.0,\r\n",
      "&end\r\n",
      "&wt\r\n",
      "type=\"END\",\r\n",
      "&end\r\n"
     ]
    }
   ],
   "source": [
    "!cat heat.3.inp"
   ]
  },
  {
   "cell_type": "markdown",
   "metadata": {},
   "source": [
    "Luego hay que correrlo ejecutando el siguiente comando:"
   ]
  },
  {
   "cell_type": "code",
   "execution_count": 47,
   "metadata": {},
   "outputs": [
    {
     "name": "stdout",
     "output_type": "stream",
     "text": [
      "Note: The following floating-point exceptions are signalling: IEEE_UNDERFLOW_FLAG IEEE_DENORMAL\n",
      "\n",
      "real\t0m8.215s\n",
      "user\t0m7.834s\n",
      "sys\t0m0.356s\n"
     ]
    }
   ],
   "source": [
    "!time ~/amber20/bin/pmemd.cuda -O -i heat.3.inp -o heat.3.out -p p.1.top -c heat.2.crd -r heat.3.crd -x heat.3.traj"
   ]
  },
  {
   "cell_type": "markdown",
   "metadata": {},
   "source": [
    "## Step 4 \n",
    "\n",
    "**Equilibración**: Utilizar este *inputs* (lo llamaremos eq.1.inp) para que el sistema acomode su densidad.  "
   ]
  },
  {
   "cell_type": "code",
   "execution_count": 50,
   "metadata": {},
   "outputs": [
    {
     "name": "stdout",
     "output_type": "stream",
     "text": [
      "\r\n",
      "\r\n",
      "\r\n",
      "\r\n",
      "\r\n",
      "\r\n"
     ]
    }
   ],
   "source": [
    "!cat eq.1.inp"
   ]
  },
  {
   "cell_type": "markdown",
   "metadata": {},
   "source": [
    "Luego hay que correrlo ejecutando el siguiente comando:"
   ]
  },
  {
   "cell_type": "code",
   "execution_count": 48,
   "metadata": {},
   "outputs": [
    {
     "name": "stdout",
     "output_type": "stream",
     "text": [
      "Note: The following floating-point exceptions are signalling: IEEE_UNDERFLOW_FLAG IEEE_DENORMAL\n",
      "\n",
      "real\t0m15.059s\n",
      "user\t0m14.626s\n",
      "sys\t0m0.408s\n"
     ]
    }
   ],
   "source": [
    "!time ~/amber20/bin/pmemd.cuda -O -i eq.1.inp -o eq.1.out -p p.1.top -c heat.3.crd -r eq.1.crd -x eq.1.traj"
   ]
  },
  {
   "cell_type": "markdown",
   "metadata": {},
   "source": [
    "Esta corrida dará como resultado el archivo eq.1.crd que tiene las posiciones y las velocidades correspondientes a un sistema a 303 K con la densidad equilibrada.\n",
    "Utilizaremos este archivo y el .top para correr la producción."
   ]
  },
  {
   "cell_type": "markdown",
   "metadata": {},
   "source": [
    "## Step 5\n",
    "\n",
    "**Producción**: Con el siguiente inputs (dmd.1.inp) se corren las simulaciones a 303 K utilizando el pmemd.cuda que funciona en GPU. Este archivo se será así:"
   ]
  },
  {
   "cell_type": "code",
   "execution_count": 51,
   "metadata": {},
   "outputs": [
    {
     "name": "stdout",
     "output_type": "stream",
     "text": [
      "\r\n",
      "\r\n",
      "\r\n",
      "\r\n",
      "\r\n",
      "\r\n"
     ]
    }
   ],
   "source": [
    "!cat dmd.1.inp"
   ]
  },
  {
   "cell_type": "markdown",
   "metadata": {},
   "source": [
    "Luego es necesario correrlo con el siguiente comando:"
   ]
  },
  {
   "cell_type": "code",
   "execution_count": 49,
   "metadata": {},
   "outputs": [
    {
     "name": "stdout",
     "output_type": "stream",
     "text": [
      "Note: The following floating-point exceptions are signalling: IEEE_UNDERFLOW_FLAG IEEE_DENORMAL\n",
      "\n",
      "real\t12m2.397s\n",
      "user\t11m57.490s\n",
      "sys\t0m5.020s\n"
     ]
    }
   ],
   "source": [
    "!time ~/amber20/bin/pmemd.cuda -O -i dmd.1.inp -o dmd.1.out -p p.1.top -c heat.3.crd -r prod.1.crd -x dmd.1.traj"
   ]
  },
  {
   "cell_type": "markdown",
   "metadata": {},
   "source": [
    "## Step 6\n",
    "\n",
    "**Análisis**: Analizar el conjunto de estructuras."
   ]
  },
  {
   "cell_type": "code",
   "execution_count": null,
   "metadata": {},
   "outputs": [],
   "source": []
  }
 ],
 "metadata": {
  "kernelspec": {
   "display_name": "Python [conda env:install]",
   "language": "python",
   "name": "conda-env-install-py"
  },
  "language_info": {
   "codemirror_mode": {
    "name": "ipython",
    "version": 3
   },
   "file_extension": ".py",
   "mimetype": "text/x-python",
   "name": "python",
   "nbconvert_exporter": "python",
   "pygments_lexer": "ipython3",
   "version": "3.8.3"
  }
 },
 "nbformat": 4,
 "nbformat_minor": 4
}

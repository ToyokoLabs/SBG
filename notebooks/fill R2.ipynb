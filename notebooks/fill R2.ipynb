{
 "cells": [
  {
   "cell_type": "code",
   "execution_count": 2,
   "source": [
    "import boto3\n",
    "\n",
    "awskeys = open('keys.csv').read()\n",
    "keyid, secret = awskeys.split(',')\n",
    "\n",
    "client = boto3.resource('sqs', region_name='us-west-2',\n",
    "                    aws_access_key_id=keyid, \n",
    "                    aws_secret_access_key=secret[:-1])\n",
    "\n",
    "sqs_q = 'https://sqs.us-west-2.amazonaws.com/344265375347/pep5aa-r3'"
   ],
   "outputs": [],
   "metadata": {}
  },
  {
   "cell_type": "code",
   "execution_count": null,
   "source": [
    "with open('../all4pep') as f:\n",
    "    entries = []\n",
    "    for line in f:\n",
    "        id_ = line[:-1].replace(' ', '').replace('{', '').replace('}', '')\n",
    "        entries.append({'Id': id_, 'MessageBody': line[:-1]})"
   ],
   "outputs": [],
   "metadata": {}
  },
  {
   "cell_type": "code",
   "execution_count": 7,
   "source": [
    "import time"
   ],
   "outputs": [],
   "metadata": {}
  },
  {
   "cell_type": "code",
   "execution_count": 4,
   "source": [
    "queue = client.get_queue_by_name(QueueName='pep5aa-r3')"
   ],
   "outputs": [],
   "metadata": {}
  },
  {
   "cell_type": "code",
   "execution_count": 4,
   "source": [
    "# Remove badones"
   ],
   "outputs": [],
   "metadata": {}
  },
  {
   "cell_type": "code",
   "execution_count": 5,
   "source": [
    "badones = ['{ NVAL LYS ASP VAL CILE }',\n",
    "'{ NMET ASN LYS TRP CALA }',\n",
    "'{ NHIS GLY PHE VAL CGLN }',\n",
    "'{ NHIS HIS CYS TYR CASN }',\n",
    "'{ NGLY GLY ASN PRO CGLY }',\n",
    "'{ NGLY TYR VAL GLU CLEU }',\n",
    "'{ NHIS TYR ALA ASN CPRO }',\n",
    "'{ NALA MET LYS TRP CALA }']"
   ],
   "outputs": [],
   "metadata": {}
  },
  {
   "cell_type": "code",
   "execution_count": 8,
   "source": [
    "with open('batch1Maa-ok', 'w') as fw:\n",
    "    with open('batch1Maa') as fr:\n",
    "        for line in fr:\n",
    "            if line[:-1] in badones:\n",
    "                print(line[:-1])\n",
    "            else:\n",
    "                fw.write(line)"
   ],
   "outputs": [
    {
     "output_type": "stream",
     "name": "stdout",
     "text": [
      "{ NMET ASN LYS TRP CALA }\n",
      "{ NGLY GLY ASN PRO CGLY }\n"
     ]
    }
   ],
   "metadata": {}
  },
  {
   "cell_type": "code",
   "execution_count": 9,
   "source": [
    "with open('batch1Maa-ok') as f:\n",
    "    entries = []\n",
    "    for line in f:\n",
    "        id_ = line[:-1].replace(' ', '').replace('{', '').replace('}', '')\n",
    "        entries.append({'Id': id_, 'MessageBody': line[:-1]})"
   ],
   "outputs": [],
   "metadata": {}
  },
  {
   "cell_type": "code",
   "execution_count": 10,
   "source": [
    "batch_list = []\n",
    "for i in entries:\n",
    "    batch_list.append(i)\n",
    "    if len(batch_list) == 10:\n",
    "        queue.send_messages(Entries=batch_list)\n",
    "        batch_list.clear()"
   ],
   "outputs": [],
   "metadata": {}
  },
  {
   "cell_type": "code",
   "execution_count": 19,
   "source": [
    "start = time.time()\n",
    "with open('batch1Mab-ok') as f:\n",
    "    entries = []\n",
    "    for line in f:\n",
    "        id_ = line[:-1].replace(' ', '').replace('{', '').replace('}', '')\n",
    "        entries.append({'Id': id_, 'MessageBody': line[:-1]})\n",
    "end = time.time()\n",
    "(end-start)/3600"
   ],
   "outputs": [
    {
     "output_type": "execute_result",
     "data": {
      "text/plain": [
       "0.0007729903194639418"
      ]
     },
     "metadata": {},
     "execution_count": 19
    }
   ],
   "metadata": {}
  },
  {
   "cell_type": "code",
   "execution_count": 20,
   "source": [
    "start = time.time()\n",
    "batch_list = []\n",
    "for i in entries:\n",
    "    batch_list.append(i)\n",
    "    if len(batch_list) == 10:\n",
    "        queue.send_messages(Entries=batch_list)\n",
    "        batch_list.clear()\n",
    "end = time.time()\n",
    "(end-start)/3600"
   ],
   "outputs": [
    {
     "output_type": "execute_result",
     "data": {
      "text/plain": [
       "2.94127228266663"
      ]
     },
     "metadata": {},
     "execution_count": 20
    }
   ],
   "metadata": {}
  },
  {
   "cell_type": "code",
   "execution_count": 14,
   "source": [
    "# Enter last 8 since they were not into the QUEUE\n",
    "batch_list = []\n",
    "for i in entries[-8:]:\n",
    "    batch_list.append(i)\n",
    "queue.send_messages(Entries=batch_list)\n"
   ],
   "outputs": [
    {
     "output_type": "execute_result",
     "data": {
      "text/plain": [
       "{'Successful': [{'Id': 'NPROVALGLUARGCGLU',\n",
       "   'MessageId': '7c96f5fc-1ad9-4cc1-a030-b4329a9c4d0e',\n",
       "   'MD5OfMessageBody': '852384b6e38506149380ace8c0b574fb'},\n",
       "  {'Id': 'NMETARGASNVALCVAL',\n",
       "   'MessageId': '489f4407-8109-4e84-834f-0853065fdf30',\n",
       "   'MD5OfMessageBody': '48045984e63ba5604b7bee7a20adb50b'},\n",
       "  {'Id': 'NCYSVALHISTRPCTHR',\n",
       "   'MessageId': '9a84ce73-dc69-4cb1-8d7c-8d63523fef70',\n",
       "   'MD5OfMessageBody': 'b6ccf4db500120545d27020206d12fb4'},\n",
       "  {'Id': 'NCYSTYRSERTHRCLYS',\n",
       "   'MessageId': '355b1bbc-1f25-4ed7-a45f-971d1c1b5b06',\n",
       "   'MD5OfMessageBody': '487f44463da9b261b19efcf2cef99230'},\n",
       "  {'Id': 'NASNHISCYSCYSCASN',\n",
       "   'MessageId': 'b42b327c-d5e1-435e-877c-84e8ca32b397',\n",
       "   'MD5OfMessageBody': '44c42050fe45e388fcf5fb9554b9da3d'},\n",
       "  {'Id': 'NLYSTRPCYSALACPHE',\n",
       "   'MessageId': '8760d51b-f8c5-405e-a6d4-3f897e6f51f1',\n",
       "   'MD5OfMessageBody': '7be71e82a011045f07dab83df20b1fc0'},\n",
       "  {'Id': 'NILETHRTYRSERCARG',\n",
       "   'MessageId': '17ff7464-e916-43fb-bdd5-cffd53cbb258',\n",
       "   'MD5OfMessageBody': 'ddfc203436ba641d289a75b5b79b7894'},\n",
       "  {'Id': 'NPROVALASNTRPCGLY',\n",
       "   'MessageId': '6575645c-d3ad-481b-8aa2-6a91ef0dd510',\n",
       "   'MD5OfMessageBody': '1f949e32c8292d55dd99fb9416a96211'}],\n",
       " 'ResponseMetadata': {'RequestId': '4ed48b4d-d897-567f-ae8d-d30d35569225',\n",
       "  'HTTPStatusCode': 200,\n",
       "  'HTTPHeaders': {'x-amzn-requestid': '4ed48b4d-d897-567f-ae8d-d30d35569225',\n",
       "   'date': 'Wed, 02 Dec 2020 01:18:57 GMT',\n",
       "   'content-type': 'text/xml',\n",
       "   'content-length': '1974'},\n",
       "  'RetryAttempts': 0}}"
      ]
     },
     "metadata": {},
     "execution_count": 14
    }
   ],
   "metadata": {}
  },
  {
   "cell_type": "code",
   "execution_count": 12,
   "source": [
    "entries[-8:]"
   ],
   "outputs": [
    {
     "output_type": "execute_result",
     "data": {
      "text/plain": [
       "[{'Id': 'NPROVALGLUARGCGLU', 'MessageBody': '{ NPRO VAL GLU ARG CGLU }'},\n",
       " {'Id': 'NMETARGASNVALCVAL', 'MessageBody': '{ NMET ARG ASN VAL CVAL }'},\n",
       " {'Id': 'NCYSVALHISTRPCTHR', 'MessageBody': '{ NCYS VAL HIS TRP CTHR }'},\n",
       " {'Id': 'NCYSTYRSERTHRCLYS', 'MessageBody': '{ NCYS TYR SER THR CLYS }'},\n",
       " {'Id': 'NASNHISCYSCYSCASN', 'MessageBody': '{ NASN HIS CYS CYS CASN }'},\n",
       " {'Id': 'NLYSTRPCYSALACPHE', 'MessageBody': '{ NLYS TRP CYS ALA CPHE }'},\n",
       " {'Id': 'NILETHRTYRSERCARG', 'MessageBody': '{ NILE THR TYR SER CARG }'},\n",
       " {'Id': 'NPROVALASNTRPCGLY', 'MessageBody': '{ NPRO VAL ASN TRP CGLY }'}]"
      ]
     },
     "metadata": {},
     "execution_count": 12
    }
   ],
   "metadata": {}
  },
  {
   "cell_type": "code",
   "execution_count": 3,
   "source": [
    "#queue.send_message(MessageBody='{ NHIS GLY VAL VAL CGLN }')\n",
    "#queue.send_message(MessageBody='{ NLEU HIS VAL VAL CGLN }')\n"
   ],
   "outputs": [],
   "metadata": {}
  },
  {
   "cell_type": "code",
   "execution_count": 5,
   "source": [
    "!split -l 1000000 /home/sebastian/5peptRND.txt batch1M"
   ],
   "outputs": [],
   "metadata": {}
  },
  {
   "cell_type": "code",
   "execution_count": 6,
   "source": [
    "!ls"
   ],
   "outputs": [
    {
     "output_type": "stream",
     "name": "stdout",
     "text": [
      " SQS_queue.ipynb   batch1Maa   batch1Mac  'fill R2.ipynb'\r\n",
      " Untitled.ipynb    batch1Mab   batch1Mad   keys.csv\r\n"
     ]
    }
   ],
   "metadata": {}
  },
  {
   "cell_type": "code",
   "execution_count": 15,
   "source": [
    "with open('batch1Maa') as f:\n",
    "    entries = []\n",
    "    for line in f:\n",
    "        id_ = line[:-1].replace(' ', '').replace('{', '').replace('}', '')\n",
    "        entries.append({'Id': id_, 'MessageBody': line[:-1]})"
   ],
   "outputs": [],
   "metadata": {}
  },
  {
   "cell_type": "code",
   "execution_count": 17,
   "source": [
    "len(entries)"
   ],
   "outputs": [
    {
     "output_type": "execute_result",
     "data": {
      "text/plain": [
       "1000000"
      ]
     },
     "metadata": {},
     "execution_count": 17
    }
   ],
   "metadata": {}
  },
  {
   "cell_type": "code",
   "execution_count": 21,
   "source": [
    "batch_list = []\n",
    "for i in entries:\n",
    "    batch_list.append(i)\n",
    "    if len(batch_list) == 10:\n",
    "        queue.send_messages(Entries=batch_list)\n",
    "        batch_list.clear()\n",
    "\n",
    "#response = queue.send_messages(Entries=entries[:10000])"
   ],
   "outputs": [],
   "metadata": {}
  },
  {
   "cell_type": "code",
   "execution_count": 1,
   "source": [
    "# check where are the dab peptides\n"
   ],
   "outputs": [],
   "metadata": {}
  },
  {
   "cell_type": "code",
   "execution_count": 6,
   "source": [
    "with open('batch1Maa') as f:\n",
    "    for line in f:\n",
    "        if line[:-1] in badones:\n",
    "            print(line[:-1])"
   ],
   "outputs": [
    {
     "output_type": "stream",
     "name": "stdout",
     "text": [
      "{ NMET ASN LYS TRP CALA }\n",
      "{ NGLY GLY ASN PRO CGLY }\n"
     ]
    }
   ],
   "metadata": {}
  },
  {
   "cell_type": "code",
   "execution_count": 7,
   "source": [
    "with open('batch1Mab') as f:\n",
    "    for line in f:\n",
    "        if line[:-1] in badones:\n",
    "            print(line[:-1])"
   ],
   "outputs": [
    {
     "output_type": "stream",
     "name": "stdout",
     "text": [
      "{ NALA MET LYS TRP CALA }\n",
      "{ NVAL LYS ASP VAL CILE }\n",
      "{ NHIS HIS CYS TYR CASN }\n",
      "{ NGLY TYR VAL GLU CLEU }\n"
     ]
    }
   ],
   "metadata": {}
  },
  {
   "cell_type": "code",
   "execution_count": 8,
   "source": [
    "with open('batch1Mac') as f:\n",
    "    for line in f:\n",
    "        if line[:-1] in badones:\n",
    "            print(line[:-1])"
   ],
   "outputs": [
    {
     "output_type": "stream",
     "name": "stdout",
     "text": [
      "{ NHIS TYR ALA ASN CPRO }\n",
      "{ NHIS GLY PHE VAL CGLN }\n"
     ]
    }
   ],
   "metadata": {}
  },
  {
   "cell_type": "code",
   "execution_count": 9,
   "source": [
    "with open('batch1Mad') as f:\n",
    "    for line in f:\n",
    "        if line[:-1] in badones:\n",
    "            print(line[:-1])"
   ],
   "outputs": [],
   "metadata": {}
  },
  {
   "cell_type": "code",
   "execution_count": 11,
   "source": [
    "with open('batch1Mab-ok', 'w') as fw:\n",
    "    with open('batch1Mab') as fr:\n",
    "        for line in fr:\n",
    "            if line[:-1] in badones:\n",
    "                print(line[:-1])\n",
    "            else:\n",
    "                fw.write(line)"
   ],
   "outputs": [
    {
     "output_type": "stream",
     "name": "stdout",
     "text": [
      "{ NALA MET LYS TRP CALA }\n",
      "{ NVAL LYS ASP VAL CILE }\n",
      "{ NHIS HIS CYS TYR CASN }\n",
      "{ NGLY TYR VAL GLU CLEU }\n"
     ]
    }
   ],
   "metadata": {}
  },
  {
   "cell_type": "code",
   "execution_count": 13,
   "source": [
    "with open('batch1Mab-ok') as f:\n",
    "    for line in f:\n",
    "        print(line)\n",
    "        break\n",
    "        if line[:-1] in badones:\n",
    "            print(line[:-1])"
   ],
   "outputs": [
    {
     "output_type": "stream",
     "name": "stdout",
     "text": [
      "{ NVAL PHE ASN THR CTRP }\n",
      "\n"
     ]
    }
   ],
   "metadata": {}
  },
  {
   "cell_type": "code",
   "execution_count": 3,
   "source": [
    "with open('batch1Mac-ok', 'w') as fw:\n",
    "    with open('batch1Mac') as fr:\n",
    "        for line in fr:\n",
    "            if line[:-1] in badones:\n",
    "                print(line[:-1])\n",
    "            else:\n",
    "                fw.write(line)"
   ],
   "outputs": [
    {
     "output_type": "stream",
     "name": "stdout",
     "text": [
      "{ NHIS TYR ALA ASN CPRO }\n",
      "{ NHIS GLY PHE VAL CGLN }\n"
     ]
    }
   ],
   "metadata": {}
  },
  {
   "cell_type": "code",
   "execution_count": 4,
   "source": [
    "batch_list = []\n",
    "for i in entries:\n",
    "    batch_list.append(i)\n",
    "    if len(batch_list) == 10:\n",
    "        queue.send_messages(Entries=batch_list)\n",
    "        batch_list.clear()"
   ],
   "outputs": [],
   "metadata": {}
  },
  {
   "cell_type": "code",
   "execution_count": 5,
   "source": [
    "#look for SQS bad messages.\n",
    "# 1 read all\n"
   ],
   "outputs": [],
   "metadata": {}
  },
  {
   "cell_type": "code",
   "execution_count": 16,
   "source": [
    "msgs = queue.receive_messages(\n",
    "    QueueUrl=sqs_q,\n",
    "    MaxNumberOfMessages=10,\n",
    "    MessageAttributeNames=[\n",
    "        'All'\n",
    "    ],\n",
    ")"
   ],
   "outputs": [],
   "metadata": {}
  },
  {
   "cell_type": "code",
   "execution_count": 17,
   "source": [
    "[m.body for m in msgs]"
   ],
   "outputs": [
    {
     "output_type": "execute_result",
     "data": {
      "text/plain": [
       "['{ NGLU VAL ASN HIS CALA }',\n",
       " '{ NILE SER SER TRP CGLY }',\n",
       " '{ NARG GLN ASN SER CPHE }',\n",
       " '{ NGLY MET ILE PRO CTYR }',\n",
       " '{ NARG LEU ALA MET CHIS }',\n",
       " '{ NCYS ARG LYS GLY CLEU }',\n",
       " '{ NGLY GLN CYS GLU CPRO }',\n",
       " '{ NLYS THR LYS PRO CARG }',\n",
       " '{ NASN GLN PRO PRO CCYS }',\n",
       " '{ NGLY ARG VAL PHE CILE }']"
      ]
     },
     "metadata": {},
     "execution_count": 17
    }
   ],
   "metadata": {}
  },
  {
   "cell_type": "code",
   "execution_count": 10,
   "source": [
    "m[0].body"
   ],
   "outputs": [
    {
     "output_type": "execute_result",
     "data": {
      "text/plain": [
       "'{ NSER ASP HIS ASP CGLY }'"
      ]
     },
     "metadata": {},
     "execution_count": 10
    }
   ],
   "metadata": {}
  },
  {
   "cell_type": "code",
   "execution_count": 23,
   "source": [
    "limit = 880\n",
    "for try_ in range(limit):\n",
    "    msgs = queue.receive_messages(\n",
    "        QueueUrl=sqs_q,\n",
    "        MaxNumberOfMessages=10,\n",
    "        MessageAttributeNames=['All'])\n",
    "    for m in msgs:\n",
    "        if m.body in ('{ NMET ASN LYS TRP CALA }', '{ NGLY GLY ASN PRO CGLY }'):\n",
    "            print(\"found: {}\".format(m.body))\n",
    "            queue.delete_messages(Entries=[{'Id': m.message_id,'ReceiptHandle': m.receipt_handle}])\n",
    "        "
   ],
   "outputs": [],
   "metadata": {}
  },
  {
   "cell_type": "code",
   "execution_count": 30,
   "source": [
    "!gsutil mv gs://sbglabdata/5pep/NVALLYSASPVALCILE-R8.tar.bz2 gs://sbglabdata/5pep/NVALLYSASPVALCILE-R1.tar.bz2"
   ],
   "outputs": [
    {
     "output_type": "stream",
     "name": "stdout",
     "text": [
      "Copying gs://sbglabdata/5pep/NVALLYSASPVALCILE-R8.tar.bz2 [Content-Type=application/x-tar]...\n",
      "Removing gs://sbglabdata/5pep/NVALLYSASPVALCILE-R8.tar.bz2...                   \n",
      "\n",
      "Operation completed over 1 objects/224.2 KiB.                                    \n"
     ]
    }
   ],
   "metadata": {}
  },
  {
   "cell_type": "code",
   "execution_count": 1,
   "source": [
    "with open('batch1Mad') as f:\n",
    "    entries = []\n",
    "    for line in f:\n",
    "        id_ = line[:-1].replace(' ', '').replace('{', '').replace('}', '')\n",
    "        entries.append({'Id': id_, 'MessageBody': line[:-1]})"
   ],
   "outputs": [],
   "metadata": {}
  },
  {
   "cell_type": "code",
   "execution_count": 5,
   "source": [
    "batch_list = []\n",
    "for i in entries:\n",
    "    batch_list.append(i)\n",
    "    if len(batch_list) == 10:\n",
    "        queue.send_messages(Entries=batch_list)\n",
    "        batch_list.clear()"
   ],
   "outputs": [],
   "metadata": {}
  },
  {
   "cell_type": "code",
   "execution_count": 6,
   "source": [
    "with open('batch1Mac-ok') as f:\n",
    "    entries = []\n",
    "    for line in f:\n",
    "        id_ = line[:-1].replace(' ', '').replace('{', '').replace('}', '')\n",
    "        entries.append({'Id': id_, 'MessageBody': line[:-1]})"
   ],
   "outputs": [],
   "metadata": {}
  },
  {
   "cell_type": "code",
   "execution_count": 8,
   "source": [
    "start = time.time()\n",
    "batch_list = []\n",
    "for i in entries:\n",
    "    batch_list.append(i)\n",
    "    if len(batch_list) == 10:\n",
    "        queue.send_messages(Entries=batch_list)\n",
    "        batch_list.clear()\n",
    "end = time.time()\n",
    "(end-start)/3600"
   ],
   "outputs": [
    {
     "output_type": "execute_result",
     "data": {
      "text/plain": [
       "2.8390964678261015"
      ]
     },
     "metadata": {},
     "execution_count": 8
    }
   ],
   "metadata": {}
  }
 ],
 "metadata": {
  "kernelspec": {
   "name": "python3",
   "display_name": "Python 3.8.10 64-bit"
  },
  "language_info": {
   "codemirror_mode": {
    "name": "ipython",
    "version": 3
   },
   "file_extension": ".py",
   "mimetype": "text/x-python",
   "name": "python",
   "nbconvert_exporter": "python",
   "pygments_lexer": "ipython3",
   "version": "3.8.10"
  },
  "interpreter": {
   "hash": "916dbcbb3f70747c44a77c7bcd40155683ae19c65e1c03b4aa3499c5328201f1"
  }
 },
 "nbformat": 4,
 "nbformat_minor": 4
}
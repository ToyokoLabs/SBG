{
 "cells": [
  {
   "cell_type": "markdown",
   "metadata": {},
   "source": [
    "# Sampling and Characterization Peptides Protocol"
   ]
  },
  {
   "cell_type": "markdown",
   "metadata": {},
   "source": [
    "First create the peptide structure and then run it in *sander* or *pmemd.cuda*. This can be done easily with the tleap program placing this information in a file *tleap.in*:"
   ]
  },
  {
   "cell_type": "code",
   "execution_count": 16,
   "metadata": {},
   "outputs": [
    {
     "data": {
      "text/plain": [
       "184"
      ]
     },
     "execution_count": 16,
     "metadata": {},
     "output_type": "execute_result"
    }
   ],
   "source": [
    "tleap_in = \"\"\"source leaprc.ff14SB\n",
    "peptide = sequence { NASP ARG VAL HIS CPRO }\n",
    "addions peptide Na+ 0\n",
    "addions peptide Cl- 0\n",
    "solvateBox peptide TIP3PBOX 13\n",
    "saveAmberParm peptide p.1.top p.1.crd\n",
    "quit\n",
    "\"\"\"\n",
    "\n",
    "open('tleap.in', 'w').write(tleap_in)"
   ]
  },
  {
   "cell_type": "code",
   "execution_count": 17,
   "metadata": {},
   "outputs": [
    {
     "name": "stdout",
     "output_type": "stream",
     "text": [
      "Copying gs://sbglabdata/src/gpu/leaprc.ff14SB...\n",
      "/ [1 files][  5.2 KiB/  5.2 KiB]                                                \n",
      "Operation completed over 1 objects/5.2 KiB.                                      \n",
      "Copying gs://sbglabdata/src/gpu/min.1.in...\n",
      "/ [1 files][   74.0 B/   74.0 B]                                                \n",
      "Operation completed over 1 objects/74.0 B.                                       \n",
      "Copying gs://sbglabdata/src/gpu/heat.1.inp...\n",
      "Copying gs://sbglabdata/src/gpu/heat.2.inp...                                   \n",
      "Copying gs://sbglabdata/src/gpu/heat.3.inp...                                   \n",
      "/ [3 files][  831.0 B/  831.0 B]                                                \n",
      "Operation completed over 3 objects/831.0 B.                                      \n",
      "Copying gs://sbglabdata/src/gpu/dmd.1.inp...\n",
      "/ [1 files][  199.0 B/  199.0 B]                                                \n",
      "Operation completed over 1 objects/199.0 B.                                      \n",
      "Copying gs://sbglabdata/src/gpu/eq.1.inp...\n",
      "/ [1 files][  209.0 B/  209.0 B]                                                \n",
      "Operation completed over 1 objects/209.0 B.                                      \n"
     ]
    }
   ],
   "source": [
    "# Download input files\n",
    "!gsutil cp gs://sbglabdata/src/gpu/leaprc.ff14SB .\n",
    "!gsutil cp gs://sbglabdata/src/gpu/min.1.in .\n",
    "!gsutil cp gs://sbglabdata/src/gpu/heat.*.inp .\n",
    "!gsutil cp gs://sbglabdata/src/gpu/dmd.1.inp .\n",
    "!gsutil cp gs://sbglabdata/src/gpu/eq.1.inp .    "
   ]
  },
  {
   "cell_type": "code",
   "execution_count": 18,
   "metadata": {},
   "outputs": [
    {
     "name": "stdout",
     "output_type": "stream",
     "text": [
      "logFile leap.log\n",
      "#\n",
      "# ----- leaprc for loading the ff14SB force field\n",
      "# ----- NOTE: this is designed for PDB format 3!\n",
      "#    Uses frcmod.ff14SB for proteins; ff99bsc0 for DNA; ff99bsc0_chiOL3 for RNA\n",
      "#\n",
      "#\tload atom type hybridizations\n",
      "#\n",
      "addAtomTypes {\n",
      "\t{ \"H\"   \"H\" \"sp3\" }\n",
      "\t{ \"HO\"  \"H\" \"sp3\" }\n",
      "\t{ \"HS\"  \"H\" \"sp3\" }\n",
      "\t{ \"H1\"  \"H\" \"sp3\" }\n",
      "\t{ \"H2\"  \"H\" \"sp3\" }\n",
      "\t{ \"H3\"  \"H\" \"sp3\" }\n",
      "\t{ \"H4\"  \"H\" \"sp3\" }\n",
      "\t{ \"H5\"  \"H\" \"sp3\" }\n",
      "\t{ \"HW\"  \"H\" \"sp3\" }\n",
      "\t{ \"HC\"  \"H\" \"sp3\" }\n",
      "\t{ \"HA\"  \"H\" \"sp3\" }\n",
      "\t{ \"HP\"  \"H\" \"sp3\" }\n",
      "\t{ \"HZ\"  \"H\" \"sp3\" }\n",
      "\t{ \"OH\"  \"O\" \"sp3\" }\n",
      "\t{ \"OS\"  \"O\" \"sp3\" }\n",
      "\t{ \"O\"   \"O\" \"sp2\" }\n",
      "\t{ \"O2\"  \"O\" \"sp2\" }\n",
      "\t{ \"OP\"  \"O\" \"sp2\" }\n",
      "\t{ \"OW\"  \"O\" \"sp3\" }\n",
      "\t{ \"CT\"  \"C\" \"sp3\" }\n",
      "\t{ \"CX\"  \"C\" \"sp3\" }\n",
      "\t{ \"C8\"  \"C\" \"sp3\" }\n",
      "\t{ \"2C\"  \"C\" \"sp3\" }\n",
      "\t{ \"3C\"  \"C\" \"sp3\" }\n",
      "\t{ \"CH\"  \"C\" \"sp3\" }\n",
      "\t{ \"CS\"  \"C\" \"sp2\" }\n",
      "\t{ \"C\"   \"C\" \"sp2\" }\n",
      "\t{ \"CO\"   \"C\" \"sp2\" }\n",
      "\t{ \"C*\"  \"C\" \"sp2\" }\n",
      "\t{ \"CA\"  \"C\" \"sp2\" }\n",
      "\t{ \"CB\"  \"C\" \"sp2\" }\n",
      "\t{ \"CC\"  \"C\" \"sp2\" }\n",
      "\t{ \"CN\"  \"C\" \"sp2\" }\n",
      "\t{ \"CM\"  \"C\" \"sp2\" }\n",
      "\t{ \"CK\"  \"C\" \"sp2\" }\n",
      "\t{ \"CQ\"  \"C\" \"sp2\" }\n",
      "\t{ \"CD\"  \"C\" \"sp2\" }\n",
      "\t{ \"C5\"  \"C\" \"sp2\" }\n",
      "\t{ \"C4\"  \"C\" \"sp2\" }\n",
      "\t{ \"CP\"  \"C\" \"sp2\" }\n",
      "\t{ \"CI\"  \"C\" \"sp3\" }\n",
      "\t{ \"CJ\"  \"C\" \"sp2\" }\n",
      "\t{ \"CW\"  \"C\" \"sp2\" }\n",
      "\t{ \"CV\"  \"C\" \"sp2\" }\n",
      "\t{ \"CR\"  \"C\" \"sp2\" }\n",
      "\t{ \"CA\"  \"C\" \"sp2\" }\n",
      "\t{ \"CY\"  \"C\" \"sp2\" }\n",
      "\t{ \"C0\"  \"Ca\" \"sp3\" }\n",
      "\t{ \"MG\"  \"Mg\" \"sp3\" }\n",
      "\t{ \"N\"   \"N\" \"sp2\" }\n",
      "\t{ \"NA\"  \"N\" \"sp2\" }\n",
      "\t{ \"N2\"  \"N\" \"sp2\" }\n",
      "\t{ \"N*\"  \"N\" \"sp2\" }\n",
      "\t{ \"NP\"  \"N\" \"sp2\" }\n",
      "\t{ \"NQ\"  \"N\" \"sp2\" }\n",
      "\t{ \"NB\"  \"N\" \"sp2\" }\n",
      "\t{ \"NC\"  \"N\" \"sp2\" }\n",
      "\t{ \"NT\"  \"N\" \"sp3\" }\n",
      "\t{ \"NY\"  \"N\" \"sp2\" }\n",
      "\t{ \"N3\"  \"N\" \"sp3\" }\n",
      "\t{ \"S\"   \"S\" \"sp3\" }\n",
      "\t{ \"SH\"  \"S\" \"sp3\" }\n",
      "\t{ \"P\"   \"P\" \"sp3\" }\n",
      "\t{ \"LP\"  \"\"  \"sp3\" }\n",
      "\t{ \"EP\"  \"\"  \"sp3\" }\n",
      "\t{ \"F\"   \"F\" \"sp3\" }\n",
      "\t{ \"Cl\"  \"Cl\" \"sp3\" }\n",
      "\t{ \"Br\"  \"Br\" \"sp3\" }\n",
      "\t{ \"I\"   \"I\"  \"sp3\" }\n",
      "\t{ \"F-\"   \"F\" \"sp3\" }\n",
      "\t{ \"Cl-\"  \"Cl\" \"sp3\" }\n",
      "\t{ \"Br-\"  \"Br\" \"sp3\" }\n",
      "\t{ \"I-\"   \"I\"  \"sp3\" }\n",
      "\t{ \"Li+\"  \"Li\"  \"sp3\" }\n",
      "\t{ \"Na+\"  \"Na\"  \"sp3\" }\n",
      "\t{ \"K+\"  \"K\"  \"sp3\" }\n",
      "\t{ \"Rb+\"  \"Rb\"  \"sp3\" }\n",
      "\t{ \"Cs+\"  \"Cs\"  \"sp3\" }\n",
      "\t{ \"Mg+\"  \"Mg\"  \"sp3\" }\n",
      "# glycam\n",
      "\t{ \"OG\"  \"O\" \"sp3\" }\n",
      "\t{ \"OL\"  \"O\" \"sp3\" }\n",
      "\t{ \"AC\"  \"C\" \"sp3\" }\n",
      "\t{ \"EC\"  \"C\" \"sp3\" }\n",
      "}\n",
      "#\n",
      "#\tLoad the main parameter set.\n",
      "#\n",
      "parm10 = loadamberparams parm10.dat\n",
      "frcmod14SB = loadamberparams frcmod.ff14SB\n",
      "#\n",
      "#\tLoad main chain and terminating amino acid libraries, nucleic acids\n",
      "#\n",
      "loadOff amino12.lib\n",
      "loadOff aminoct12.lib\n",
      "loadOff aminont12.lib\n",
      "loadOff nucleic12.lib\n",
      "#\n",
      "#       Load water and ions\n",
      "# \n",
      "loadOff atomic_ions.lib\n",
      "loadOff solvents.lib\n",
      "HOH = TP3\n",
      "WAT = TP3\n",
      "\n",
      "#\n",
      "#\tDefine the PDB name map for the amino acids and nucleic acids\n",
      "#\n",
      "addPdbResMap {\n",
      "  { 0 \"HYP\" \"NHYP\" } { 1 \"HYP\" \"CHYP\" }\n",
      "  { 0 \"ALA\" \"NALA\" } { 1 \"ALA\" \"CALA\" }\n",
      "  { 0 \"ARG\" \"NARG\" } { 1 \"ARG\" \"CARG\" }\n",
      "  { 0 \"ASN\" \"NASN\" } { 1 \"ASN\" \"CASN\" }\n",
      "  { 0 \"ASP\" \"NASP\" } { 1 \"ASP\" \"CASP\" }\n",
      "  { 0 \"CYS\" \"NCYS\" } { 1 \"CYS\" \"CCYS\" }\n",
      "  { 0 \"CYX\" \"NCYX\" } { 1 \"CYX\" \"CCYX\" }\n",
      "  { 0 \"GLN\" \"NGLN\" } { 1 \"GLN\" \"CGLN\" }\n",
      "  { 0 \"GLU\" \"NGLU\" } { 1 \"GLU\" \"CGLU\" }\n",
      "  { 0 \"GLY\" \"NGLY\" } { 1 \"GLY\" \"CGLY\" }\n",
      "  { 0 \"HID\" \"NHID\" } { 1 \"HID\" \"CHID\" }\n",
      "  { 0 \"HIE\" \"NHIE\" } { 1 \"HIE\" \"CHIE\" }\n",
      "  { 0 \"HIP\" \"NHIP\" } { 1 \"HIP\" \"CHIP\" }\n",
      "  { 0 \"ILE\" \"NILE\" } { 1 \"ILE\" \"CILE\" }\n",
      "  { 0 \"LEU\" \"NLEU\" } { 1 \"LEU\" \"CLEU\" }\n",
      "  { 0 \"LYS\" \"NLYS\" } { 1 \"LYS\" \"CLYS\" }\n",
      "  { 0 \"MET\" \"NMET\" } { 1 \"MET\" \"CMET\" }\n",
      "  { 0 \"PHE\" \"NPHE\" } { 1 \"PHE\" \"CPHE\" }\n",
      "  { 0 \"PRO\" \"NPRO\" } { 1 \"PRO\" \"CPRO\" }\n",
      "  { 0 \"SER\" \"NSER\" } { 1 \"SER\" \"CSER\" }\n",
      "  { 0 \"THR\" \"NTHR\" } { 1 \"THR\" \"CTHR\" }\n",
      "  { 0 \"TRP\" \"NTRP\" } { 1 \"TRP\" \"CTRP\" }\n",
      "  { 0 \"TYR\" \"NTYR\" } { 1 \"TYR\" \"CTYR\" }\n",
      "  { 0 \"VAL\" \"NVAL\" } { 1 \"VAL\" \"CVAL\" }\n",
      "  { 0 \"HIS\" \"NHIS\" } { 1 \"HIS\" \"CHIS\" }\n",
      "  { 0 \"G\" \"G5\"  } { 1 \"G\" \"G3\"  } \n",
      "  { 0 \"A\" \"A5\"  } { 1 \"A\" \"A3\"  } \n",
      "  { 0 \"C\" \"C5\"  } { 1 \"C\" \"C3\"  } \n",
      "  { 0 \"U\" \"U5\"  } { 1 \"U\" \"U3\"  } \n",
      "  { 0 \"DG\" \"DG5\"  } { 1 \"DG\" \"DG3\"  }  \n",
      "  { 0 \"DA\" \"DA5\"  } { 1 \"DA\" \"DA3\"  }  \n",
      "  { 0 \"DC\" \"DC5\"  } { 1 \"DC\" \"DC3\"  }  \n",
      "  { 0 \"DT\" \"DT5\"  } { 1 \"DT\" \"DT3\"  }  \n",
      "#  some old Amber residue names for RNA:\n",
      "  { 0  \"RA5\" \"A5\" } { 1 \"RA3\" \"A3\"} {\"RA\" \"A\" }\n",
      "  { 0  \"RC5\" \"C5\" } { 1 \"RC3\" \"C3\"} {\"RC\" \"C\" }\n",
      "  { 0  \"RG5\" \"G5\" } { 1 \"RG3\" \"G3\"} {\"RG\" \"G\" }\n",
      "  { 0  \"RU5\" \"U5\" } { 1 \"RU3\" \"U3\"} {\"RU\" \"U\" }\n",
      "#  some really old Amber residue names, assuming DNA:\n",
      "  { 0 \"GUA\" \"DG5\"  } { 1 \"GUA\" \"DG3\"  } { \"GUA\" \"DG\" }\n",
      "  { 0 \"ADE\" \"DA5\"  } { 1 \"ADE\" \"DA3\"  } { \"ADE\" \"DA\" }\n",
      "  { 0 \"CYT\" \"DC5\"  } { 1 \"CYT\" \"DC3\"  } { \"CYT\" \"DC\" }\n",
      "  { 0 \"THY\" \"DT5\"  } { 1 \"THY\" \"DT3\"  } { \"THY\" \"DT\" }\n",
      "#  uncomment out the following if you have this old style RNA files:\n",
      "# { 0 \"GUA\" \"G5\"  } { 1 \"GUA\" \"G3\"  } { \"GUA\" \"G\" }\n",
      "# { 0 \"ADE\" \"A5\"  } { 1 \"ADE\" \"A3\"  } { \"ADE\" \"A\" }\n",
      "# { 0 \"CYT\" \"C5\"  } { 1 \"CYT\" \"C3\"  } { \"CYT\" \"C\" }\n",
      "# { 0 \"URA\" \"R5\"  } { 1 \"URA\" \"R3\"  } { \"URA\" \"R\" }\n",
      "\n",
      "}\n",
      "\n",
      "#  try to be good about reading in really old atom names as well:\n",
      "addPdbAtomMap {\n",
      "  { \"O5*\" \"O5'\" }\n",
      "  { \"C5*\" \"C5'\" }\n",
      "  { \"C4*\" \"C4'\" }\n",
      "  { \"O4*\" \"O4'\" }\n",
      "  { \"C3*\" \"C3'\" }\n",
      "  { \"O3*\" \"O3'\" }\n",
      "  { \"C2*\" \"C2'\" }\n",
      "  { \"O2*\" \"O2'\" }\n",
      "  { \"C1*\" \"C1'\" }\n",
      "  { \"C5M\" \"C7\"  }\n",
      "  { \"H1*\" \"H1'\" }\n",
      "  { \"H2*1\" \"H2'\" }\n",
      "  { \"H2*2\" \"H2''\" }\n",
      "  { \"H2'1\" \"H2'\" }\n",
      "  { \"H2'2\" \"H2''\" }\n",
      "  { \"H3*\" \"H3'\" }\n",
      "  { \"H4*\" \"H4'\" }\n",
      "  { \"H5*1\" \"H5'\" }\n",
      "  { \"H5*2\" \"H5''\" }\n",
      "  { \"H5'1\" \"H5'\" }\n",
      "  { \"H5'2\" \"H5''\" }\n",
      "  { \"HO'2\" \"HO2'\" }\n",
      "  { \"H5T\"  \"HO5'\" }\n",
      "  { \"H3T\"  \"HO3'\" }\n",
      "  { \"O1'\" \"O4'\" }\n",
      "  { \"OA\"  \"OP1\" }\n",
      "  { \"OB\"  \"OP2\" }\n",
      "  { \"O1P\" \"OP1\" }\n",
      "  { \"O2P\" \"OP2\" }\n",
      "}\n",
      "\n",
      "#\n",
      "# assume that most often proteins use HIE\n",
      "#\n",
      "NHIS = NHIE\n",
      "HIS = HIE\n",
      "CHIS = CHIE\n",
      "\n",
      "\n"
     ]
    }
   ],
   "source": [
    "print(open('leaprc.ff14SB').read())"
   ]
  },
  {
   "cell_type": "markdown",
   "metadata": {},
   "source": [
    "## Step 1\n",
    "\n",
    "Each residue sequence has the three letter code for each amino acid, althought the first will be have N and the last C.\n",
    "\n",
    "tleap is used to generate the model. This will produce 2 files. A topology one ((p.1.top) and coordinates (p.1.crd). From now on we will use these two files to run the dynamics. Topology file will always be the same while the coordinate file will change in every step\n",
    "\n",
    "Run the program like this:"
   ]
  },
  {
   "cell_type": "code",
   "execution_count": 19,
   "metadata": {
    "scrolled": true
   },
   "outputs": [
    {
     "name": "stdout",
     "output_type": "stream",
     "text": [
      "-I: Adding /home/sebastian/amber20/dat/leap/prep to search path.\n",
      "-I: Adding /home/sebastian/amber20/dat/leap/lib to search path.\n",
      "-I: Adding /home/sebastian/amber20/dat/leap/parm to search path.\n",
      "-I: Adding /home/sebastian/amber20/dat/leap/cmd to search path.\n",
      "-s: Ignoring startup file: leaprc\n",
      "-f: Source tleap.in.\n",
      "\n",
      "Welcome to LEaP!\n",
      "Sourcing: ./tleap.in\n",
      "----- Source: ./leaprc.ff14SB\n",
      "----- Source of ./leaprc.ff14SB done\n",
      "Log file: ./leap.log\n",
      "Loading parameters: /home/sebastian/amber20/dat/leap/parm/parm10.dat\n",
      "Reading title:\n",
      "PARM99 + frcmod.ff99SB + frcmod.parmbsc0 + OL3 for RNA\n",
      "Loading parameters: /home/sebastian/amber20/dat/leap/parm/frcmod.ff14SB\n",
      "Reading force field modification type file (frcmod)\n",
      "Reading title:\n",
      "ff14SB protein backbone and sidechain parameters\n",
      "Loading library: /home/sebastian/amber20/dat/leap/lib/amino12.lib\n",
      "Loading library: /home/sebastian/amber20/dat/leap/lib/aminoct12.lib\n",
      "Loading library: /home/sebastian/amber20/dat/leap/lib/aminont12.lib\n",
      "Loading library: /home/sebastian/amber20/dat/leap/lib/nucleic12.lib\n",
      "Loading library: /home/sebastian/amber20/dat/leap/lib/atomic_ions.lib\n",
      "Loading library: /home/sebastian/amber20/dat/leap/lib/solvents.lib\n",
      " 0.000000 0 1 0\n",
      "0 Na+ ion required to neutralize.\n",
      "Using default radius  1.50 for ion Na+\n",
      "Adding 0 counter ions to \"peptide\" using 1A grid\n",
      "\n",
      "/home/sebastian/amber20/bin/teLeap: Warning!\n",
      "addIons: 1st Ion & target unit have charges of the same sign:\n",
      "     unit charge = -7.77156e-16; ion1 charge = -1;\n",
      "     can't neutralize.\n",
      "  Solute vdw bounding box:              19.190 14.625 11.116\n",
      "  Total bounding box for atom centers:  45.190 40.625 37.116\n",
      "  Solvent unit box:                     18.774 18.774 18.774\n",
      "  Total vdw box size:                   47.686 43.772 40.136 angstroms.\n",
      "  Volume: 83776.357 A^3 \n",
      "  Total mass 36600.648 amu,  Density 0.725 g/cc\n",
      "  Added 1997 residues.\n",
      "Checking Unit.\n",
      "Building topology.\n",
      "Building atom parameters.\n",
      "Building bond parameters.\n",
      "Building angle parameters.\n",
      "Building proper torsion parameters.\n",
      "Building improper torsion parameters.\n",
      " total 18 improper torsions applied\n",
      "Building H-Bond parameters.\n",
      "Incorporating Non-Bonded adjustments.\n",
      "Not Marking per-residue atom chain types.\n",
      "Marking per-residue atom chain types.\n",
      "  (Residues lacking connect0/connect1 - \n",
      "   these don't have chain types marked:\n",
      "\n",
      "\tres\ttotal affected\n",
      "\n",
      "\tCPRO\t1\n",
      "\tNASP\t1\n",
      "\tWAT\t1997\n",
      "  )\n",
      " (no restraints)\n",
      "\tQuit\n",
      "\n",
      "Exiting LEaP: Errors = 0; Warnings = 1; Notes = 0.\n"
     ]
    }
   ],
   "source": [
    "!~/amber20/bin/tleap -s -f tleap.in"
   ]
  },
  {
   "cell_type": "markdown",
   "metadata": {},
   "source": [
    "## Step 2\n",
    "\n",
    "**Minimize**: From here we will use *sander or pmemd.cuda* from Amber. To minimize we need 3 input files. Topology (p.1.top), coordinates (p.1.crd) and the one used to input variables, in this case is min.1.in, here is the content:"
   ]
  },
  {
   "cell_type": "code",
   "execution_count": 20,
   "metadata": {},
   "outputs": [
    {
     "name": "stdout",
     "output_type": "stream",
     "text": [
      "Minimizacion\n",
      "&cntrl\n",
      "imin=1,\n",
      "maxcyc=8000,\n",
      "ncyc=7500,\n",
      "cut=9,\n",
      "ntpr=200,\n",
      "&end\n",
      "\n"
     ]
    }
   ],
   "source": [
    "print(open('min.1.in').read())"
   ]
  },
  {
   "cell_type": "markdown",
   "metadata": {},
   "source": [
    "How to minimize:"
   ]
  },
  {
   "cell_type": "code",
   "execution_count": 21,
   "metadata": {},
   "outputs": [
    {
     "name": "stdout",
     "output_type": "stream",
     "text": [
      "Note: The following floating-point exceptions are signalling: IEEE_UNDERFLOW_FLAG IEEE_DENORMAL\n",
      "\n",
      "real\t0m6.010s\n",
      "user\t0m5.563s\n",
      "sys\t0m0.404s\n"
     ]
    }
   ],
   "source": [
    "!time ~/amber20/bin/pmemd.cuda -O -i min.1.in -o min.1.out -p p.1.top -c p.1.crd -r min.1.crd"
   ]
  },
  {
   "cell_type": "markdown",
   "metadata": {},
   "source": [
    "The input file is the one ended in .in, the output is the .out. The .top topology file generated with *tleap*, p.1.crd is the coordinates files generated by *tleap*. min.1.crd is the coordinate output file that will be used in the next step."
   ]
  },
  {
   "cell_type": "markdown",
   "metadata": {},
   "source": [
    "## Step 3\n",
    "\n",
    "**Heating**: Use this input (heat.1.inp) so the system goes from 0 K to 100 K"
   ]
  },
  {
   "cell_type": "code",
   "execution_count": 22,
   "metadata": {},
   "outputs": [
    {
     "name": "stdout",
     "output_type": "stream",
     "text": [
      "35 heating\n",
      "&cntrl\n",
      "imin=0,irest=0,ntx=1,ntb=1,cut=9.0,ntp=0,nmropt=1,\n",
      "ntt=3,nstlim=10000,ntpr=500,ntwx=10000,dt=0.002,ioutfm=1,\n",
      "ntwr=10000,gamma_ln=1.0,tol=0.0000001,ntf=2,ntc=2,\n",
      "&end\n",
      "&wt\n",
      "type=\"TEMP0\", istep1=0, istep2=10000, value1=0.0, value2=100.0,\n",
      "&end\n",
      "&wt\n",
      "type=\"END\",\n",
      "&end\n",
      "\n"
     ]
    }
   ],
   "source": [
    "print(open('heat.1.inp').read())"
   ]
  },
  {
   "cell_type": "markdown",
   "metadata": {},
   "source": [
    "Run this with the next command:"
   ]
  },
  {
   "cell_type": "code",
   "execution_count": 23,
   "metadata": {},
   "outputs": [
    {
     "name": "stdout",
     "output_type": "stream",
     "text": [
      "Note: The following floating-point exceptions are signalling: IEEE_UNDERFLOW_FLAG IEEE_DENORMAL\n",
      "\n",
      "real\t0m4.852s\n",
      "user\t0m4.374s\n",
      "sys\t0m0.440s\n"
     ]
    }
   ],
   "source": [
    "!time ~/amber20/bin/pmemd.cuda -O -i heat.1.inp -o heat.1.out -p p.1.top -c min.1.crd -r heat.1.crd -x heat.1.traj"
   ]
  },
  {
   "cell_type": "markdown",
   "metadata": {},
   "source": [
    "This run will output the heat.1.crd with positions and speeds related to the system at 100 K.\n",
    "Use this input (heat.2.inp) to move the system from 100 K to 200 K"
   ]
  },
  {
   "cell_type": "code",
   "execution_count": 24,
   "metadata": {},
   "outputs": [
    {
     "name": "stdout",
     "output_type": "stream",
     "text": [
      "35 heating\n",
      "&cntrl\n",
      "imin=0,irest=1,ntx=5,ntb=2,cut=9.0,ntp=2,nmropt=1,\n",
      "ntt=3,nstlim=5000,ntpr=500,ntwx=5000,dt=0.002,ioutfm=1,\n",
      "ntwr=5000,gamma_ln=1.0,tol=0.0000001,ntf=2,ntc=2,\n",
      "&end\n",
      "&wt\n",
      "type=\"TEMP0\", istep1=0, istep2=5000, value1=100.0, value2=200.0,\n",
      "&end\n",
      "&wt\n",
      "type=\"END\",\n",
      "&end\n",
      "\n"
     ]
    }
   ],
   "source": [
    "print(open('heat.2.inp').read())"
   ]
  },
  {
   "cell_type": "markdown",
   "metadata": {},
   "source": [
    "Run the following:"
   ]
  },
  {
   "cell_type": "code",
   "execution_count": 25,
   "metadata": {},
   "outputs": [
    {
     "name": "stdout",
     "output_type": "stream",
     "text": [
      "ERROR: Calculation halted.  Periodic box dimensions have changed too much from their initial values.\n",
      "  Your system density has likely changed by a large amount, probably from\n",
      "  starting the simulation from a structure a long way from equilibrium.\n",
      "\n",
      "  [Although this error can also occur if the simulation has blown up for some reason]\n",
      "\n",
      "  The GPU code does not automatically reorganize grid cells and thus you\n",
      "  will need to restart the calculation from the previous restart file.\n",
      "  This will generate new grid cells and allow the calculation to continue.\n",
      "  It may be necessary to repeat this restarting multiple times if your system\n",
      "  is a long way from an equilibrated density.\n",
      "\n",
      "  Alternatively you can run with the CPU code until the density has converged\n",
      "  and then switch back to the GPU code.\n",
      "\n",
      "\n",
      "real\t0m3.449s\n",
      "user\t0m3.081s\n",
      "sys\t0m0.341s\n"
     ]
    }
   ],
   "source": [
    "!time ~/amber20/bin/pmemd.cuda -O -i heat.2.inp -o heat.2.out -p p.1.top -c heat.1.crd -r heat.2.crd -x heat.2.traj"
   ]
  }
 ],
 "metadata": {
  "kernelspec": {
   "display_name": "Python [conda env:install]",
   "language": "python",
   "name": "conda-env-install-py"
  },
  "language_info": {
   "codemirror_mode": {
    "name": "ipython",
    "version": 3
   },
   "file_extension": ".py",
   "mimetype": "text/x-python",
   "name": "python",
   "nbconvert_exporter": "python",
   "pygments_lexer": "ipython3",
   "version": "3.8.3"
  }
 },
 "nbformat": 4,
 "nbformat_minor": 4
}
